{
 "cells": [
  {
   "cell_type": "code",
   "execution_count": 17,
   "id": "5f79035a",
   "metadata": {},
   "outputs": [
    {
     "name": "stdout",
     "output_type": "stream",
     "text": [
      "¿Deseas la informacion en dolares o en pesos? (Responder con mxn o usd)usd\n",
      "Articulos disponibles:\n",
      "3x Computadora - 882.35 USD c/u\n",
      "1x Mouse - 29.41 USD c/u\n"
     ]
    }
   ],
   "source": [
    "items = {\"Computadora\": {\"Precio\":15000,\"Cantidad\":3}, \"Mouse\": {\"Precio\": 500, \"Cantidad\": 1}, \"Teclado\": {\"Precio\": 1000, \"Cantidad\": 0}}\n",
    "\n",
    "def items_available(divisa):\n",
    "    def items_mxn():\n",
    "        for key in items:\n",
    "            if items[key][\"Cantidad\"]:\n",
    "                print(\"{}x {} - {} MXN c/u\".format(items[key][\"Cantidad\"], key,items[key][\"Precio\"]))\n",
    "    def items_usd():\n",
    "        for key in items:\n",
    "            if items[key][\"Cantidad\"]:\n",
    "                print(\"{}x {} - {:0.2f} USD c/u\".format(items[key][\"Cantidad\"], key,items[key][\"Precio\"]/17))\n",
    "    print(\"Articulos disponibles:\")\n",
    "    if divisa == \"mxn\":\n",
    "        items_mxn()\n",
    "    elif divisa == \"usd\":\n",
    "        items_usd()\n",
    "    else:\n",
    "        print(\"Error en la seleccion de divisa.\")\n",
    "\n",
    "divisa = input(\"¿Deseas la informacion en dolares o en pesos? (Responder con mxn o usd) \")\n",
    "items_available(divisa)"
   ]
  },
  {
   "cell_type": "code",
   "execution_count": null,
   "id": "907ead4a",
   "metadata": {},
   "outputs": [],
   "source": []
  },
  {
   "cell_type": "code",
   "execution_count": null,
   "id": "0de50108",
   "metadata": {},
   "outputs": [],
   "source": []
  }
 ],
 "metadata": {
  "kernelspec": {
   "display_name": "Python 3 (ipykernel)",
   "language": "python",
   "name": "python3"
  },
  "language_info": {
   "codemirror_mode": {
    "name": "ipython",
    "version": 3
   },
   "file_extension": ".py",
   "mimetype": "text/x-python",
   "name": "python",
   "nbconvert_exporter": "python",
   "pygments_lexer": "ipython3",
   "version": "3.11.5"
  }
 },
 "nbformat": 4,
 "nbformat_minor": 5
}
