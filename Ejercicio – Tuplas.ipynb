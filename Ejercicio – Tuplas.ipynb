{
 "cells": [
  {
   "cell_type": "code",
   "execution_count": 2,
   "id": "66a3360b",
   "metadata": {},
   "outputs": [
    {
     "name": "stdout",
     "output_type": "stream",
     "text": [
      "Lista de Reproducción\n",
      "\n",
      "Ingresa la palabra que te gustaría\n",
      "Ejemplo: 'rock', y obtendrás un playlist de canciones o artistas que incluyan la palabra rock\n",
      "rock\n",
      "('Rock', 'Olamide')\n",
      "('Rock', 'BlackPathos')\n",
      "('Rock', 'Plies')\n",
      "('ROCK (feat. Le Juiice)', 'Lithium')\n",
      "('ROCK', 'Stray Kids')\n",
      "('ROCK', 'Stray Kids')\n",
      "('Rock My Body', 'R3HAB')\n",
      "('Black Block', 'neumodel')\n",
      "('Rocky', 'Still Woozy')\n",
      "('Rock (feat. 2rare & DSturdy)', 'Asian Doll')\n",
      "('Rock Your Body', 'Justin Timberlake')\n",
      "('I Am Rock', 'Rock')\n",
      "('All Summer Long', 'Kid Rock')\n",
      "('Rock It', 'Ofenbach')\n",
      "('Rock Amadour', 'Gerard Blanchard')\n",
      "('Rock (2002 Remaster)', 'Burning Spear')\n",
      "('_________ Rock ___ (2/3)', \"C'typeencostume\")\n",
      "('Rocks', 'Bones')\n",
      "('Rock the Casbah (Remastered)', 'The Clash')\n",
      "('Roce', 'Chris Jonex')\n",
      "('The Big Bang', 'Rock Mafia')\n",
      "('Rock With You', 'Michael Jackson')\n",
      "('Rocky', 'Dog Eat Dog')\n",
      "('Rock Around The Clock', 'Bill Haley & His Comets')\n",
      "('Roce', 'Mark B.')\n"
     ]
    }
   ],
   "source": [
    "import requests \n",
    "\n",
    "print(\"Lista de Reproducción\\n\") \n",
    "\n",
    "# Referencia: https://www.deezer.com/en/channels/explore \n",
    "\n",
    "print(\"Ingresa la palabra que te gustaría\") \n",
    "print(\"Ejemplo: 'rock', y obtendrás un playlist de canciones o artistas que incluyan la palabra rock\") \n",
    "\n",
    "word_to_search = input() \n",
    "\n",
    "url = \"https://deezerdevs-deezer.p.rapidapi.com/search\" \n",
    "querystring = {\"q\":word_to_search} \n",
    "headers = {    \n",
    "    \"X-RapidAPI-Key\": \"3ed98f551fmshe4e6260228c4eadp13db17jsn8c893e1194da\",    \n",
    "    \"X-RapidAPI-Host\": \"deezerdevs-deezer.p.rapidapi.com\" \n",
    "} \n",
    "response = requests.request(\"GET\", url, headers=headers, params=querystring).json() \n",
    "for element in response['data']:    \n",
    "    my_tuple = (element['title'], element['artist']['name'])\n",
    "    print(my_tuple)"
   ]
  },
  {
   "cell_type": "code",
   "execution_count": null,
   "id": "21183a5e",
   "metadata": {},
   "outputs": [],
   "source": []
  }
 ],
 "metadata": {
  "kernelspec": {
   "display_name": "Python 3 (ipykernel)",
   "language": "python",
   "name": "python3"
  },
  "language_info": {
   "codemirror_mode": {
    "name": "ipython",
    "version": 3
   },
   "file_extension": ".py",
   "mimetype": "text/x-python",
   "name": "python",
   "nbconvert_exporter": "python",
   "pygments_lexer": "ipython3",
   "version": "3.11.5"
  }
 },
 "nbformat": 4,
 "nbformat_minor": 5
}
