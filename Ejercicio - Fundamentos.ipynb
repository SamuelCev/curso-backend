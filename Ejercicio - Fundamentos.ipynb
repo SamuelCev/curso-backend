{
 "cells": [
  {
   "cell_type": "code",
   "execution_count": 3,
   "id": "e9c27489",
   "metadata": {},
   "outputs": [
    {
     "name": "stdout",
     "output_type": "stream",
     "text": [
      "Hola, dame un numero entero: 45\n",
      "Ahora dame un numero con decimales: 2.2\n",
      "Ahora dame una palabra: Hola\n",
      "El entero es:  45\n",
      "Tipo de dato de ent:  <class 'int'>\n",
      "El float es:  2.2\n",
      "Tipo de dato de ent:  <class 'float'>\n",
      "La cadena es:  Hola\n",
      "Tipo de dato de ent:  <class 'str'>\n"
     ]
    }
   ],
   "source": [
    "ent = int(input(\"Hola, dame un numero entero: \"))\n",
    "flt = float(input(\"Ahora dame un numero con decimales: \"))\n",
    "cad = input(\"Ahora dame una palabra: \")\n",
    "\n",
    "print(\"El entero es: \", ent)\n",
    "print(\"Tipo de dato de ent: \",type(ent))\n",
    "print(\"El float es: \", flt)\n",
    "print(\"Tipo de dato de ent: \",type(flt))\n",
    "print(\"La cadena es: \", cad)\n",
    "print(\"Tipo de dato de ent: \",type(cad))"
   ]
  },
  {
   "cell_type": "code",
   "execution_count": null,
   "id": "aaa8d5c7",
   "metadata": {},
   "outputs": [],
   "source": []
  }
 ],
 "metadata": {
  "kernelspec": {
   "display_name": "Python 3 (ipykernel)",
   "language": "python",
   "name": "python3"
  },
  "language_info": {
   "codemirror_mode": {
    "name": "ipython",
    "version": 3
   },
   "file_extension": ".py",
   "mimetype": "text/x-python",
   "name": "python",
   "nbconvert_exporter": "python",
   "pygments_lexer": "ipython3",
   "version": "3.11.5"
  }
 },
 "nbformat": 4,
 "nbformat_minor": 5
}
