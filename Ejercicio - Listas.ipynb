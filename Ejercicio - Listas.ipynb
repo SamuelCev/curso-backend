{
 "cells": [
  {
   "cell_type": "code",
   "execution_count": 2,
   "id": "ec61bd64",
   "metadata": {},
   "outputs": [
    {
     "name": "stdout",
     "output_type": "stream",
     "text": [
      "Carrito de compras\n",
      "\n",
      " \n",
      "Productos Disponibles: \n",
      "\n",
      "1.- Pan \n",
      "2.- Jamón \n",
      "3.- Crema \n",
      "4.- Mayonesa \n",
      "5.- Lechuga\n",
      "6.- Queso\n",
      "7.- Catsup\n",
      "8.- Avena\n",
      "\n",
      "Ingresa una lista con los productos en este formato: [[Cantidad,Producto]]\n",
      "Por ejemplo: [[1,1], [3,2]] significa 1 Pan y 3 Jamón\n",
      "[[1,6],[1,7],[2,8]]\n",
      "\n",
      "\n",
      "Tu carrito es:\n",
      "1 Queso\n",
      "1 Catsup\n",
      "2 Avena\n"
     ]
    }
   ],
   "source": [
    "print(\"Carrito de compras\\n\")\n",
    "\n",
    "print(\"\"\" \n",
    "Productos Disponibles: \n",
    "\n",
    "1.- Pan \n",
    "2.- Jamón \n",
    "3.- Crema \n",
    "4.- Mayonesa \n",
    "5.- Lechuga\n",
    "6.- Queso\n",
    "7.- Catsup\n",
    "8.- Avena\n",
    "\"\"\") \n",
    "\n",
    "print(\"Ingresa una lista con los productos en este formato: [[Cantidad,Producto]]\") \n",
    "print(\"Por ejemplo: [[1,1], [3,2]] significa 1 Pan y 3 Jamón\" ) \n",
    "\n",
    "my_shopping_cart = eval(input()) \n",
    "print(\"\\n\\nTu carrito es:\") \n",
    "\n",
    "if type(my_shopping_cart) == list:    \n",
    "    if type(my_shopping_cart[0]) == list:        \n",
    "        for element in my_shopping_cart:            \n",
    "            product = \"\"            \n",
    "            if element[1] == 1:                \n",
    "                product = \"Pan\"            \n",
    "            if element[1] == 2:                \n",
    "                product = \"Jamón\"            \n",
    "            if element[1] == 3:                \n",
    "                product = \"Crema\"            \n",
    "            if element[1] == 4:                \n",
    "                product = \"Mayonesa\"            \n",
    "            if element[1] == 5:                \n",
    "                product = \"Lechuga\"\n",
    "            if element[1] == 6:                \n",
    "                product = \"Queso\"\n",
    "            if element[1] == 7:                \n",
    "                product = \"Catsup\"\n",
    "            if element[1] == 8:                \n",
    "                product = \"Avena\"\n",
    "            \n",
    "            print(\"{} {}\".format(element[0], product))    \n",
    "    else:        \n",
    "        print(\"Formato incorrecto, debes ingresar una lista de listas\") \n",
    "else:    \n",
    "    print(\"Formato incorrecto, debes ingresar una lista de listas\")"
   ]
  },
  {
   "cell_type": "code",
   "execution_count": null,
   "id": "6c9cbe88",
   "metadata": {},
   "outputs": [],
   "source": []
  }
 ],
 "metadata": {
  "kernelspec": {
   "display_name": "Python 3 (ipykernel)",
   "language": "python",
   "name": "python3"
  },
  "language_info": {
   "codemirror_mode": {
    "name": "ipython",
    "version": 3
   },
   "file_extension": ".py",
   "mimetype": "text/x-python",
   "name": "python",
   "nbconvert_exporter": "python",
   "pygments_lexer": "ipython3",
   "version": "3.11.5"
  }
 },
 "nbformat": 4,
 "nbformat_minor": 5
}
