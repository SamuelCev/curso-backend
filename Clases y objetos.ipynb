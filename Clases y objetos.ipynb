{
 "cells": [
  {
   "cell_type": "code",
   "execution_count": 1,
   "id": "af3a50c1",
   "metadata": {},
   "outputs": [
    {
     "name": "stdout",
     "output_type": "stream",
     "text": [
      "Atributos del refresco \n",
      "Cantidad: 400\n",
      "Precio: 20\n",
      "Nombre: Coca-cola\n",
      "Categoria: None\n",
      "\n",
      "Atributos del monitor \n",
      "Cantidad: 15\n",
      "Precio: 2500\n",
      "Nombre: Ultra Gear\n",
      "Categoria: Monitor\n",
      "Tasa de refresco: 144 hz\n",
      "Tamaño: 22 pulgadas\n",
      "\n",
      "Atributos del monitor despues de los cambios \n",
      "Cantidad: 13\n",
      "Precio: 2800\n",
      "Nombre: Ultra Gear\n",
      "Categoria: Monitor\n",
      "Tasa de refresco: 144 hz\n",
      "Tamaño: 22 pulgadas\n",
      "\n",
      "Mostrando solo la ficha tecnica del monitor \n",
      "Tasa de refresco: 144 hz\n",
      "Tamaño: 22 pulgadas\n"
     ]
    }
   ],
   "source": [
    "class producto():\n",
    "    def __init__(self, cantidad, precio, nombre) -> None:\n",
    "        self.cantidad = cantidad\n",
    "        self.precio = precio\n",
    "        self.nombre = nombre\n",
    "        self.categoria = None\n",
    "    def cambiarPrecio(self, nuevo_precio):\n",
    "        self.precio = nuevo_precio\n",
    "    def incrementarCantidad(self, aumento):\n",
    "        self.cantidad += aumento\n",
    "    def reducirCantidad(self, decremento):\n",
    "        self.cantidad -= decremento\n",
    "    def mostrarAtributos(self):\n",
    "        print(\"Cantidad:\", self.cantidad)\n",
    "        print(\"Precio:\", self.precio)\n",
    "        print(\"Nombre:\", self.nombre)\n",
    "        print(\"Categoria:\", self.categoria)\n",
    "\n",
    "class monitor(producto):\n",
    "    def __init__(self, cantidad, precio, nombre, hz, pulgadas) -> None:\n",
    "        super().__init__(cantidad, precio, nombre)\n",
    "        self.hz = hz\n",
    "        self.pulgadas = pulgadas\n",
    "        self.categoria = \"Monitor\"\n",
    "    def fichaTecnica(self):\n",
    "        print(\"Tasa de refresco: {} hz\".format(self.hz))\n",
    "        print(\"Tamaño: {} pulgadas\".format(self.pulgadas))\n",
    "    def mostrarAtributos(self):\n",
    "        super().mostrarAtributos()\n",
    "        self.fichaTecnica()\n",
    "\n",
    "refresco = producto(400,20,\"Coca-cola\")\n",
    "pantalla = monitor(15,2500,\"Ultra Gear\", 144, 22)\n",
    "\n",
    "print(\"Atributos del refresco \")\n",
    "refresco.mostrarAtributos()\n",
    "print(\"\\nAtributos del monitor \")\n",
    "pantalla.mostrarAtributos()\n",
    "pantalla.reducirCantidad(2)\n",
    "pantalla.cambiarPrecio(2800)\n",
    "print(\"\\nAtributos del monitor despues de los cambios \")\n",
    "pantalla.mostrarAtributos()\n",
    "print(\"\\nMostrando solo la ficha tecnica del monitor \")\n",
    "pantalla.fichaTecnica()"
   ]
  },
  {
   "cell_type": "code",
   "execution_count": null,
   "id": "b159d39e",
   "metadata": {},
   "outputs": [],
   "source": []
  }
 ],
 "metadata": {
  "kernelspec": {
   "display_name": "Python 3 (ipykernel)",
   "language": "python",
   "name": "python3"
  },
  "language_info": {
   "codemirror_mode": {
    "name": "ipython",
    "version": 3
   },
   "file_extension": ".py",
   "mimetype": "text/x-python",
   "name": "python",
   "nbconvert_exporter": "python",
   "pygments_lexer": "ipython3",
   "version": "3.11.5"
  }
 },
 "nbformat": 4,
 "nbformat_minor": 5
}
