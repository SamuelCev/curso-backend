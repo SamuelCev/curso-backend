{
 "cells": [
  {
   "cell_type": "code",
   "execution_count": 1,
   "id": "83688dae",
   "metadata": {},
   "outputs": [
    {
     "name": "stdout",
     "output_type": "stream",
     "text": [
      "Lista de Reproducción\n",
      "\n",
      "Ingresa la palabra que te gustaría\n",
      "Ejemplo: 'rock', y obtendrás un playlist de canciones o artistas que incluyan la palabra rock\n",
      "rock\n",
      "[{'cancion': 'Rock', 'artista': 'BlackPathos'}, {'cancion': 'Rock', 'artista': 'Olamide'}, {'cancion': 'Rock', 'artista': 'Plies'}, {'cancion': 'ROCK (feat. Le Juiice)', 'artista': 'Lithium'}, {'cancion': 'ROCK', 'artista': 'Stray Kids'}, {'cancion': 'ROCK', 'artista': 'Stray Kids'}, {'cancion': 'Rock My Body', 'artista': 'R3HAB'}, {'cancion': 'Black Block', 'artista': 'neumodel'}, {'cancion': 'Rock', 'artista': 'Ernest Vogue'}, {'cancion': 'Rock (feat. 2rare & DSturdy)', 'artista': 'Asian Doll'}, {'cancion': 'Rock Your Body', 'artista': 'Justin Timberlake'}, {'cancion': 'Rocks', 'artista': 'Bones'}, {'cancion': 'I Am Rock', 'artista': 'Rock'}, {'cancion': 'All Summer Long', 'artista': 'Kid Rock'}, {'cancion': 'Rocky', 'artista': 'Still Woozy'}, {'cancion': 'Rock It', 'artista': 'Ofenbach'}, {'cancion': 'Rock Amadour', 'artista': 'Gerard Blanchard'}, {'cancion': 'Rock (2002 Remaster)', 'artista': 'Burning Spear'}, {'cancion': '_________ Rock ___ (2/3)', 'artista': \"C'typeencostume\"}, {'cancion': 'Rock the Casbah (Remastered)', 'artista': 'The Clash'}, {'cancion': 'Rocks', 'artista': 'Jerome Sandero'}, {'cancion': 'The Big Bang', 'artista': 'Rock Mafia'}, {'cancion': 'Rock With You', 'artista': 'Michael Jackson'}, {'cancion': 'Rock Around The Clock', 'artista': 'Bill Haley & His Comets'}, {'cancion': 'roce', 'artista': 'paopao'}]\n"
     ]
    }
   ],
   "source": [
    "import requests \n",
    "\n",
    "print(\"Lista de Reproducción\\n\") \n",
    "\n",
    "# Referencia: https://www.deezer.com/en/channels/explore \n",
    "\n",
    "print(\"Ingresa la palabra que te gustaría\") \n",
    "print(\"Ejemplo: 'rock', y obtendrás un playlist de canciones o artistas que incluyan la palabra rock\") \n",
    "\n",
    "word_to_search = input() \n",
    "\n",
    "url = \"https://deezerdevs-deezer.p.rapidapi.com/search\" \n",
    "querystring = {\"q\":word_to_search} \n",
    "headers = {    \n",
    "    \"X-RapidAPI-Key\": \"3ed98f551fmshe4e6260228c4eadp13db17jsn8c893e1194da\",    \n",
    "    \"X-RapidAPI-Host\": \"deezerdevs-deezer.p.rapidapi.com\" \n",
    "} \n",
    "response = requests.request(\"GET\", url, headers=headers, params=querystring).json()\n",
    "\n",
    "my_list = [{\"cancion\": element['title'], \"artista\": element['artist']['name']} for element in response['data']]\n",
    "\n",
    "print(my_list)"
   ]
  },
  {
   "cell_type": "code",
   "execution_count": null,
   "id": "6bca2c07",
   "metadata": {},
   "outputs": [],
   "source": []
  }
 ],
 "metadata": {
  "kernelspec": {
   "display_name": "Python 3 (ipykernel)",
   "language": "python",
   "name": "python3"
  },
  "language_info": {
   "codemirror_mode": {
    "name": "ipython",
    "version": 3
   },
   "file_extension": ".py",
   "mimetype": "text/x-python",
   "name": "python",
   "nbconvert_exporter": "python",
   "pygments_lexer": "ipython3",
   "version": "3.11.5"
  }
 },
 "nbformat": 4,
 "nbformat_minor": 5
}
