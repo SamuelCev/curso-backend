{
 "cells": [
  {
   "cell_type": "code",
   "execution_count": 5,
   "id": "dcfed792",
   "metadata": {},
   "outputs": [
    {
     "name": "stdout",
     "output_type": "stream",
     "text": [
      "{'C3C', '4C4', 'AA3', '0C0', 'AA0', '00A', '7A7', '7DD', '5C5', '11B', '0CC', '3D3', '0D0', '4D4', 'DD4', '1CC', 'C00', '1C1', '11C', 'DD2', 'A00', 'A5A', 'A77', '6AA', '3BB', 'A33', '6BB', '55C', '000', 'C6C', 'C8C', '0A0', '6DD', '44A', '9A9', '2CC', 'B33', '00B', '11D', 'B6B', '7D7', 'A9A', 'C7C', 'B9B', '1D1', '11A', 'A2A', '7BB', '66B', '2BB', '4BB', '3A3', 'D44', 'A1A', 'B22', '777', '6D6', 'C4C', 'CC4', 'AA8', '8AA', 'D88', 'DD1', 'B2B', 'BB5', 'B11', 'A44', 'D11', 'BB2', 'C5C', '77A', '4AA', '9D9', '9DD', '33D', '3AA', 'B66', 'B88', '66A', '55B', '99A', '999', 'D77', '77C', '77B', 'B55', 'C66', 'D0D', '2A2', '5B5', '5CC', '2DD', 'D5D', '9AA', '222', 'C55', 'CC5', 'DDD', 'BB3', 'B44', '22C', '8DD', 'DD9', 'B4B', 'C99', 'B1B', '8B8', 'B3B', '555', 'A66', 'D9D', '8D8', 'CCC', 'B8B', '2AA', 'CC3', 'A6A', 'A8A', 'B0B', '1A1', '8BB', 'D1D', 'A0A', 'D4D', '666', 'CC1', '66D', 'A11', 'C33', '5A5', '55D', '77D', '9BB', '99D', 'DD5', 'BB7', '4CC', 'AAA', '6CC', 'AA5', '6A6', '88D', 'AA6', '444', 'CC7', 'C88', '6C6', 'BB6', '44C', 'A22', 'BB9', '9B9', '3B3', '4A4', '2C2', '55A', '66C', 'BB8', '2B2', 'D2D', 'D3D', '4DD', '5DD', 'D33', '88A', '9CC', 'C2C', 'B77', 'CC8', '0DD', 'CC2', 'A7A', 'D00', 'AA1', 'BB4', '1BB', '44B', 'C11', '88C', 'C9C', '5BB', 'D7D', '3CC', '4B4', 'A4A', 'C1C', 'D66', 'B7B', '111', '3DD', 'DD6', '22D', '7C7', 'A99', '99B', '22B', 'D8D', 'CC9', 'A3A', 'D55', 'A88', '00D', '1DD', '1B1', '33A', 'C22', 'DD3', 'AA9', 'BB0', '9C9', '333', '2D2', 'B5B', '33C', 'D6D', 'BB1', 'CC6', 'A55', 'DD7', '888', '88B', 'C0C', 'B99', '00C', '8CC', 'BBB', '1AA', '0BB', 'AA4', 'AA2', 'B00', '0AA', '8A8', 'DD0', 'D22', '6B6', 'CC0', 'AA7', '33B', '7CC', 'DD8', '7B7', '0B0', '7AA', '5AA', '99C', 'D99', '22A', '44D', 'C77', 'C44', '5D5', '3C3', '8C8'}\n"
     ]
    }
   ],
   "source": [
    "numbers = ['0', '1', '2', '3', '4', '5', '6', '7', '8', '9']\n",
    "letters = ['A', 'B', 'C', 'D']\n",
    "\n",
    "unique_combinations = set()\n",
    "\n",
    "for number in numbers:    \n",
    "    for letter in letters:        \n",
    "        unique_combinations.add(\"{}{}{}\".format(number,number,number))\n",
    "        unique_combinations.add(\"{}{}{}\".format(number,number,letter))\n",
    "        unique_combinations.add(\"{}{}{}\".format(number,letter,number))\n",
    "        unique_combinations.add(\"{}{}{}\".format(number,letter,letter))\n",
    "        unique_combinations.add(\"{}{}{}\".format(letter,number,number))\n",
    "        unique_combinations.add(\"{}{}{}\".format(letter,letter,number))\n",
    "        unique_combinations.add(\"{}{}{}\".format(letter,number,letter)) \n",
    "        unique_combinations.add(\"{}{}{}\".format(letter,letter,letter))\n",
    "\n",
    "print(unique_combinations)"
   ]
  },
  {
   "cell_type": "code",
   "execution_count": null,
   "id": "b805f0d8",
   "metadata": {},
   "outputs": [],
   "source": []
  }
 ],
 "metadata": {
  "kernelspec": {
   "display_name": "Python 3 (ipykernel)",
   "language": "python",
   "name": "python3"
  },
  "language_info": {
   "codemirror_mode": {
    "name": "ipython",
    "version": 3
   },
   "file_extension": ".py",
   "mimetype": "text/x-python",
   "name": "python",
   "nbconvert_exporter": "python",
   "pygments_lexer": "ipython3",
   "version": "3.11.5"
  }
 },
 "nbformat": 4,
 "nbformat_minor": 5
}
