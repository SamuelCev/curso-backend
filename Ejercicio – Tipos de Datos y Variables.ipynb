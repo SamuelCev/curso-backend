{
 "cells": [
  {
   "cell_type": "code",
   "execution_count": 2,
   "id": "82c94a92",
   "metadata": {},
   "outputs": [
    {
     "name": "stdout",
     "output_type": "stream",
     "text": [
      "Ingresa el sistema numerico con el que deseas trabajar\n",
      "1 - Decimal\n",
      "2 - Binario\n",
      "3 - Octal\n",
      "4 - Hexadecimal\n",
      "Selección: 4\n",
      "\n",
      "Ingresa el valor del primer y el segundo numero dejando un espacio entre ellos: A1 B3\n",
      "\n",
      "Ingresa la operacion que quieres realizar\n",
      "1 - Suma\n",
      "2 - Resta\n",
      "3 - Multiplicación\n",
      "4 - División\n",
      "5 - Potenciación\n",
      "Selección: 1\n",
      "\n",
      "El valor del primer numero es:  A1\n",
      "El valor del segundo numero es:  B3\n",
      "La operación seleccionada fue \"Suma\".\n",
      "Resultado:  340\n"
     ]
    }
   ],
   "source": [
    "#Calculadora\n",
    "\n",
    "base = int(input(\"Ingresa el sistema numerico con el que deseas trabajar\\n1 - Decimal\\n2 - Binario\\n3 - Octal\\n4 - Hexadecimal\\nSelección: \"))\n",
    "x,y = (input(\"\\nIngresa el valor del primer y el segundo numero dejando un espacio entre ellos: \")).split()\n",
    "oper = int(input(\"\\nIngresa la operacion que quieres realizar\\n1 - Suma\\n2 - Resta\\n3 - Multiplicación\\n4 - División\\n5 - Potenciación\\nSelección: \"))\n",
    "\n",
    "print(\"\\nEl valor del primer numero es: \",x)\n",
    "print(\"El valor del segundo numero es: \",y)\n",
    "\n",
    "if base == 1:\n",
    "    x = float(x)\n",
    "    y = float(y)\n",
    "elif base == 2:\n",
    "    x = int(x, 2)\n",
    "    y = int(y, 2)\n",
    "elif base == 3:\n",
    "    x = int(x, 8)\n",
    "    y = int(y, 8)\n",
    "elif base == 4:\n",
    "    x = int(x, 16)\n",
    "    y = int(y, 16)\n",
    "else:\n",
    "    print(\"Error en el sistema númerico seleccionado.\")\n",
    "\n",
    "if oper == 1:\n",
    "    print('La operación seleccionada fue \"Suma\".')\n",
    "    print(\"Resultado: \",x+y)\n",
    "elif oper == 2:\n",
    "    print('La operación seleccionada fue \"Resta\".')\n",
    "    print(\"Resultado: \",x-y)\n",
    "elif oper == 3:\n",
    "    print('La operación seleccionada fue \"Multiplicación\".')\n",
    "    print(\"Resultado: \",x*y)\n",
    "elif oper == 4:\n",
    "    print('La operación seleccionada fue \"División\".')\n",
    "    print(\"Resultado: \",x/y)\n",
    "elif oper == 5:\n",
    "    print('La operación seleccionada fue \"Potencia\".')\n",
    "    print(\"Resultado: \",pow(x,y))\n",
    "else:\n",
    "    print(\"Error en la operación seleccionada.\")\n"
   ]
  }
 ],
 "metadata": {
  "kernelspec": {
   "display_name": "Python 3 (ipykernel)",
   "language": "python",
   "name": "python3"
  },
  "language_info": {
   "codemirror_mode": {
    "name": "ipython",
    "version": 3
   },
   "file_extension": ".py",
   "mimetype": "text/x-python",
   "name": "python",
   "nbconvert_exporter": "python",
   "pygments_lexer": "ipython3",
   "version": "3.11.5"
  }
 },
 "nbformat": 4,
 "nbformat_minor": 5
}
