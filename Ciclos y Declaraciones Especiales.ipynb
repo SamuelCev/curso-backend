{
 "cells": [
  {
   "cell_type": "code",
   "execution_count": 6,
   "id": "0b581155",
   "metadata": {},
   "outputs": [
    {
     "name": "stdout",
     "output_type": "stream",
     "text": [
      "stop \n"
     ]
    }
   ],
   "source": [
    "import time \n",
    "\n",
    "def countdown(time_sec):    \n",
    "    while time_sec:        \n",
    "        mins, secs = divmod(time_sec, 60)\n",
    "        timeformat = '{:02d}:{:02d}'.format(mins, secs)\n",
    "        print(timeformat, end='\\r')\n",
    "        time.sleep(1)\n",
    "        time_sec -= 1    \n",
    "    print(\"stop \")\n",
    "\n",
    "def countup(time_sec):\n",
    "    current_time = 0\n",
    "    while current_time <= time_sec:\n",
    "        mins, secs = divmod(current_time, 60)\n",
    "        timeformat = '{:02d}:{:02d}'.format(mins, secs)\n",
    "        print(timeformat, end='\\r')\n",
    "        time.sleep(1)\n",
    "        current_time += 1    \n",
    "    print(\"stop \")\n",
    "    \n",
    "countup(90)"
   ]
  },
  {
   "cell_type": "code",
   "execution_count": null,
   "id": "f6f1aef1",
   "metadata": {},
   "outputs": [],
   "source": []
  }
 ],
 "metadata": {
  "kernelspec": {
   "display_name": "Python 3 (ipykernel)",
   "language": "python",
   "name": "python3"
  },
  "language_info": {
   "codemirror_mode": {
    "name": "ipython",
    "version": 3
   },
   "file_extension": ".py",
   "mimetype": "text/x-python",
   "name": "python",
   "nbconvert_exporter": "python",
   "pygments_lexer": "ipython3",
   "version": "3.11.5"
  }
 },
 "nbformat": 4,
 "nbformat_minor": 5
}
